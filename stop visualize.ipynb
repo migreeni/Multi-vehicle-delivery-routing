{
 "cells": [
  {
   "cell_type": "code",
   "execution_count": 1,
   "id": "a3ac58c8",
   "metadata": {},
   "outputs": [
    {
     "name": "stdout",
     "output_type": "stream",
     "text": [
      "Requirement already satisfied: pandas in c:\\users\\migre\\anaconda3\\lib\\site-packages (2.1.4)\n",
      "Collecting folium\n",
      "  Downloading folium-0.17.0-py2.py3-none-any.whl.metadata (3.8 kB)\n",
      "Requirement already satisfied: numpy<2,>=1.23.2 in c:\\users\\migre\\anaconda3\\lib\\site-packages (from pandas) (1.26.4)\n",
      "Requirement already satisfied: python-dateutil>=2.8.2 in c:\\users\\migre\\anaconda3\\lib\\site-packages (from pandas) (2.8.2)\n",
      "Requirement already satisfied: pytz>=2020.1 in c:\\users\\migre\\anaconda3\\lib\\site-packages (from pandas) (2023.3.post1)\n",
      "Requirement already satisfied: tzdata>=2022.1 in c:\\users\\migre\\anaconda3\\lib\\site-packages (from pandas) (2023.3)\n",
      "Collecting branca>=0.6.0 (from folium)\n",
      "  Downloading branca-0.7.2-py3-none-any.whl.metadata (1.5 kB)\n",
      "Requirement already satisfied: jinja2>=2.9 in c:\\users\\migre\\anaconda3\\lib\\site-packages (from folium) (3.1.3)\n",
      "Requirement already satisfied: requests in c:\\users\\migre\\anaconda3\\lib\\site-packages (from folium) (2.31.0)\n",
      "Requirement already satisfied: xyzservices in c:\\users\\migre\\anaconda3\\lib\\site-packages (from folium) (2022.9.0)\n",
      "Requirement already satisfied: MarkupSafe>=2.0 in c:\\users\\migre\\anaconda3\\lib\\site-packages (from jinja2>=2.9->folium) (2.1.3)\n",
      "Requirement already satisfied: six>=1.5 in c:\\users\\migre\\anaconda3\\lib\\site-packages (from python-dateutil>=2.8.2->pandas) (1.16.0)\n",
      "Requirement already satisfied: charset-normalizer<4,>=2 in c:\\users\\migre\\anaconda3\\lib\\site-packages (from requests->folium) (2.0.4)\n",
      "Requirement already satisfied: idna<4,>=2.5 in c:\\users\\migre\\anaconda3\\lib\\site-packages (from requests->folium) (3.4)\n",
      "Requirement already satisfied: urllib3<3,>=1.21.1 in c:\\users\\migre\\anaconda3\\lib\\site-packages (from requests->folium) (2.0.7)\n",
      "Requirement already satisfied: certifi>=2017.4.17 in c:\\users\\migre\\anaconda3\\lib\\site-packages (from requests->folium) (2024.6.2)\n",
      "Downloading folium-0.17.0-py2.py3-none-any.whl (108 kB)\n",
      "   ---------------------------------------- 0.0/108.4 kB ? eta -:--:--\n",
      "   ---------------------------------------- 0.0/108.4 kB ? eta -:--:--\n",
      "   ---------------------------------------- 0.0/108.4 kB ? eta -:--:--\n",
      "   --- ------------------------------------ 10.2/108.4 kB ? eta -:--:--\n",
      "   ----------- --------------------------- 30.7/108.4 kB 262.6 kB/s eta 0:00:01\n",
      "   -------------- ------------------------ 41.0/108.4 kB 281.8 kB/s eta 0:00:01\n",
      "   ----------------------------- --------- 81.9/108.4 kB 416.7 kB/s eta 0:00:01\n",
      "   -------------------------------------- 108.4/108.4 kB 483.6 kB/s eta 0:00:00\n",
      "Downloading branca-0.7.2-py3-none-any.whl (25 kB)\n",
      "Installing collected packages: branca, folium\n",
      "Successfully installed branca-0.7.2 folium-0.17.0\n",
      "Note: you may need to restart the kernel to use updated packages.\n"
     ]
    }
   ],
   "source": [
    "pip install pandas folium"
   ]
  },
  {
   "cell_type": "code",
   "execution_count": 4,
   "id": "a125ef6d",
   "metadata": {},
   "outputs": [
    {
     "name": "stdout",
     "output_type": "stream",
     "text": [
      "지도 파일이 stops_and_centers_map.html에 저장되었습니다.\n"
     ]
    }
   ],
   "source": [
    "import pandas as pd\n",
    "import folium\n",
    "\n",
    "\n",
    "# CSV 파일 읽기\n",
    "stop_data = pd.read_csv('Stop.csv')\n",
    "center_data = pd.read_csv('Center.csv')\n",
    "\n",
    "# 지도 초기화 (중심 좌표는 임의로 설정)\n",
    "map_center = [37.33186943, 126.9356232]  # 서울시청 기준\n",
    "m = folium.Map(location=map_center, zoom_start=12)\n",
    "\n",
    "# 각 착지 좌표를 지도에 마커로 추가\n",
    "for _, row in stop_data.iterrows():\n",
    "    folium.Marker(\n",
    "        location=[row['Y'], row['X']],\n",
    "        popup=f\"Stop ID: {row['ID']}\",\n",
    "        icon=folium.Icon(color='blue', icon='info-sign')\n",
    "    ).add_to(m)\n",
    "\n",
    "# 각 센터 좌표를 지도에 특별한 마커로 추가\n",
    "for _, row in center_data.iterrows():\n",
    "    folium.Marker(\n",
    "        location=[row['Y'], row['X']],\n",
    "        popup=f\"Center ID: {row['ID']}\",\n",
    "        icon=folium.Icon(color='red', icon='home')\n",
    "    ).add_to(m)\n",
    "\n",
    "# 지도를 HTML 파일로 저장\n",
    "map_output_path = 'stops_and_centers_map.html'\n",
    "m.save(map_output_path)\n",
    "\n",
    "print(f\"지도 파일이 {map_output_path}에 저장되었습니다.\")\n"
   ]
  },
  {
   "cell_type": "code",
   "execution_count": null,
   "id": "d685c622",
   "metadata": {},
   "outputs": [],
   "source": []
  }
 ],
 "metadata": {
  "kernelspec": {
   "display_name": "Python 3 (ipykernel)",
   "language": "python",
   "name": "python3"
  },
  "language_info": {
   "codemirror_mode": {
    "name": "ipython",
    "version": 3
   },
   "file_extension": ".py",
   "mimetype": "text/x-python",
   "name": "python",
   "nbconvert_exporter": "python",
   "pygments_lexer": "ipython3",
   "version": "3.11.7"
  }
 },
 "nbformat": 4,
 "nbformat_minor": 5
}
