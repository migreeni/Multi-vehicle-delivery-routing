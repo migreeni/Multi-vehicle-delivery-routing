{
 "cells": [
  {
   "cell_type": "code",
   "execution_count": 10,
   "id": "66606744",
   "metadata": {
    "scrolled": true
   },
   "outputs": [
    {
     "name": "stdout",
     "output_type": "stream",
     "text": [
      "100.32761818181818\n",
      "130.97312499999998\n",
      "     sum_plt  sum_weight                                          order_ids\n",
      "0       0.50      237.65                                     [O_675, O_876]\n",
      "1       2.08      201.12                                       [O_1, O_883]\n",
      "2      14.83    10480.05  [O_8, O_1733, O_1734, O_1735, O_1736, O_1737, ...\n",
      "3       2.78     1444.86                                      [O_67, O_777]\n",
      "4       0.39      155.36                                     [O_596, O_745]\n",
      "..       ...         ...                                                ...\n",
      "670     0.27       46.72                                            [O_591]\n",
      "671     0.11       74.72                                            [O_592]\n",
      "672     3.43     2603.16                              [O_593, O_864, O_865]\n",
      "673     3.94     2795.35                    [O_594, O_1420, O_1421, O_1422]\n",
      "674     3.18     1490.28    [O_595, O_1495, O_1496, O_1497, O_1498, O_1499]\n",
      "\n",
      "[675 rows x 3 columns]\n"
     ]
    }
   ],
   "source": [
    "# clustering \n",
    "import pandas as pd\n",
    "\n",
    "# 데이터 불러오기\n",
    "vehicle = pd.read_csv('Vehicle.csv')\n",
    "order = pd.read_csv('Order_Monday.csv')\n",
    "stop = pd.read_csv('Stop.csv')\n",
    "center = pd.read_csv('Center.csv')\n",
    "od_matrix = pd.read_csv('OD_Matrix.txt', delimiter=',')\n",
    "\n",
    "# 데이터프레임의 숫자 열을 double 형식으로 변환\n",
    "def convert_to_float(df):\n",
    "    for col in df.select_dtypes(include=['int64', 'float64']).columns:\n",
    "        df[col] = pd.to_numeric(df[col], errors='coerce').astype('float64')\n",
    "    return df\n",
    "\n",
    "vehicle = convert_to_float(vehicle)\n",
    "order = convert_to_float(order)\n",
    "stop = convert_to_float(stop)\n",
    "center = convert_to_float(center)\n",
    "od_matrix = convert_to_float(od_matrix)\n",
    "\n",
    "# Terminal ID -> S_0\n",
    "stop.replace('Terminal', 'S_0', inplace=True)\n",
    "vehicle.replace('Terminal', 'S_0', inplace=True)\n",
    "order.replace('Terminal', 'S_0', inplace=True)\n",
    "stop.replace('Terminal', 'S_0', inplace=True)\n",
    "center.replace('Terminal', 'S_0', inplace=True)\n",
    "od_matrix.replace('Terminal', 'S_0', inplace=True)\n",
    "\n",
    "stop_id = stop['ID'].str.replace('S_', '').astype(int).values\n",
    "\n",
    "\n",
    "# stop_id 별로 그룹화\n",
    "order_grouped = order.groupby('Stop_ID')\n",
    "result = []\n",
    "\n",
    "for stop_id, group in order_grouped:\n",
    "    sum_plt = group['plt'].sum()\n",
    "    sum_weight = group['weight'].sum()\n",
    "    order_ids = group['Order_ID'].tolist()\n",
    "    result.append([sum_plt, sum_weight, order_ids])\n",
    "    \n",
    "result_df = pd.DataFrame(result, columns=['sum_plt', 'sum_weight', 'order_ids'])\n",
    "\n",
    "print(result_df['sum_weight'].sum() / 11000)\n",
    "print(result_df['sum_plt'].sum() / 16)\n",
    "\n",
    "\n",
    "print(result_df)"
   ]
  },
  {
   "cell_type": "code",
   "execution_count": null,
   "id": "55fb86a7",
   "metadata": {},
   "outputs": [],
   "source": []
  }
 ],
 "metadata": {
  "kernelspec": {
   "display_name": "Python 3 (ipykernel)",
   "language": "python",
   "name": "python3"
  },
  "language_info": {
   "codemirror_mode": {
    "name": "ipython",
    "version": 3
   },
   "file_extension": ".py",
   "mimetype": "text/x-python",
   "name": "python",
   "nbconvert_exporter": "python",
   "pygments_lexer": "ipython3",
   "version": "3.11.7"
  }
 },
 "nbformat": 4,
 "nbformat_minor": 5
}
